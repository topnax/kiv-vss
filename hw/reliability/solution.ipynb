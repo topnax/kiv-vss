{
 "cells": [
  {
   "cell_type": "markdown",
   "id": "faf71d2a",
   "metadata": {},
   "source": [
    "> Z tisíce sledovaných součástek typu XXX se každý rok v průměru K porouchá a je nahrazeno novými. Určete intenzitu poruch součástky λ v jednotkách $rok^{-1}$ a $hod^{-1}$."
   ]
  },
  {
   "cell_type": "code",
   "execution_count": 1,
   "id": "ca5b1b07",
   "metadata": {},
   "outputs": [],
   "source": [
    "# 1000 observed components\n",
    "N = 1000"
   ]
  },
  {
   "cell_type": "markdown",
   "id": "12189230",
   "metadata": {},
   "source": [
    "Intenzita poruch součástky v jednotkách $ \\mathrm{rok^{-1}} $:\n",
    "\n",
    "$$ \\lambda_{c} = \\frac{K}{N} = \\frac{K}{1000}\\ \\mathrm{rok^{-1}} $$"
   ]
  },
  {
   "cell_type": "code",
   "execution_count": 2,
   "id": "1b44e015",
   "metadata": {},
   "outputs": [],
   "source": [
    "def single_component_failure_intensity(K, N):\n",
    "    return K / N"
   ]
  },
  {
   "cell_type": "markdown",
   "id": "387d0a99",
   "metadata": {},
   "source": [
    "Intenzita poruch součástky v jednotkách $ \\mathrm{hod^{-1}} $:\n",
    "$$ \\lambda_{ch} = \\frac{\\frac{K}{N}}{365 \\cdot 24} \\mathrm{hod^{-1}} = \\frac{\\frac{K}{1000}}{365 \\cdot 24} \\ \\mathrm{hod^{-1}} $$"
   ]
  },
  {
   "cell_type": "code",
   "execution_count": 3,
   "id": "52d95d8f",
   "metadata": {},
   "outputs": [],
   "source": [
    "def single_component_failure_intensity_hours(K, N):\n",
    "    return (K / N) / (365 * 24)"
   ]
  },
  {
   "cell_type": "markdown",
   "id": "ee792753",
   "metadata": {},
   "source": [
    "> Počítač se skládá z N součástek typu XXX. Porucha každé součástky znamená poruchu počítače. Pro počítač určete symbolicky (tj. jako vzoreček):\n",
    "> - celkovou intenzitu poruch systému $λ_s$,\n",
    "> - pravděpodobnost bezporuchového provozu $R(t)$,\n",
    "> - s jakou pravděpodobností systém zrealizuje službu (tzv. misi, angl. mission) v době trvání T hodin."
   ]
  },
  {
   "cell_type": "markdown",
   "id": "d01ddc48",
   "metadata": {},
   "source": [
    "Uvažujeme konstantní intenzitu poruchy jedné součástky počítače, tak poté platí, že celková intenzita poruchy počítače skládajícího se z $ N $ součástek je:\n",
    "\n",
    "$$ \\lambda_{s} = N \\cdot \\lambda_{c} $$"
   ]
  },
  {
   "cell_type": "code",
   "execution_count": 4,
   "id": "97e72034",
   "metadata": {},
   "outputs": [],
   "source": [
    "def computer_failure_intensity(component_count, component_failure_intensity):\n",
    "    return component_count * component_failure_intensity"
   ]
  },
  {
   "cell_type": "markdown",
   "id": "9b3727b4",
   "metadata": {},
   "source": [
    "Dosazením intenzity poruchy počítače do vzorečku pro pravděpodobnost bezporuchového provozu ($ R(t) $) získáváme:\n",
    "\n",
    "$$ \\large R(t) = e^{-\\lambda_{s} \\cdot t} $$"
   ]
  },
  {
   "cell_type": "code",
   "execution_count": 5,
   "id": "76aceeb8",
   "metadata": {},
   "outputs": [],
   "source": [
    "import math\n",
    "def computer_running_probability(computer_failure_intensity, t):\n",
    "    return math.exp(-computer_failure_intensity * t)"
   ]
  },
  {
   "cell_type": "markdown",
   "id": "5f120623",
   "metadata": {},
   "source": [
    "Pravděpodobnost, že počítač zrealizuje službu trvající $ T $ hodin:\n",
    "$$ serviceCompletedProbability = R(T) $$"
   ]
  },
  {
   "cell_type": "markdown",
   "id": "f7f6b1da",
   "metadata": {},
   "source": [
    "> Dále vypočítejte uvedené tři výsledky též numericky pro K  = 10, N  = 10000, T  = 10 hod."
   ]
  },
  {
   "cell_type": "code",
   "execution_count": 6,
   "id": "a1bc2283",
   "metadata": {},
   "outputs": [],
   "source": [
    "# 10 components failed\n",
    "K = 10"
   ]
  },
  {
   "cell_type": "code",
   "execution_count": 7,
   "id": "e23bdb40",
   "metadata": {},
   "outputs": [],
   "source": [
    "# computer is made of 10000 components\n",
    "N = 10000"
   ]
  },
  {
   "cell_type": "code",
   "execution_count": 8,
   "id": "49344d08",
   "metadata": {},
   "outputs": [],
   "source": [
    "# service takes 10 hours\n",
    "T = 10"
   ]
  },
  {
   "cell_type": "code",
   "execution_count": 9,
   "id": "8aa8b488",
   "metadata": {},
   "outputs": [
    {
     "data": {
      "text/plain": [
       "1.1415525114155251e-07"
      ]
     },
     "execution_count": 9,
     "metadata": {},
     "output_type": "execute_result"
    }
   ],
   "source": [
    "component_failure_intensity_hours = single_component_failure_intensity_hours(K, N)\n",
    "component_failure_intensity_hours"
   ]
  },
  {
   "cell_type": "markdown",
   "id": "873bd199",
   "metadata": {},
   "source": [
    "Intenzita poruchy jedné komponenty $λ$:\n",
    "$$ λ = N \\cdot \\frac{\\frac{K}{N}}{365 \\cdot 24} = \\frac{\\frac{10}{10000}}{365 \\cdot 24} = 1.14155 \\cdot 10^{-7} \\ \\mathrm{hod^{-1}}$$"
   ]
  },
  {
   "cell_type": "code",
   "execution_count": 10,
   "id": "47abc44f",
   "metadata": {},
   "outputs": [
    {
     "data": {
      "text/plain": [
       "0.001141552511415525"
      ]
     },
     "execution_count": 10,
     "metadata": {},
     "output_type": "execute_result"
    }
   ],
   "source": [
    "computer_failure_intensity_hours = computer_failure_intensity(N, component_failure_intensity_hours)\n",
    "computer_failure_intensity_hours"
   ]
  },
  {
   "cell_type": "markdown",
   "id": "5b3d9030",
   "metadata": {},
   "source": [
    "Intenzita poruchy celého systému $\\lambda_{s}$:\n",
    "$$ \\lambda_{s} = N \\cdot \\lambda = 0.00114155\\ \\mathrm{hod^{-1}}$$"
   ]
  },
  {
   "cell_type": "code",
   "execution_count": 11,
   "id": "d5309ec2",
   "metadata": {},
   "outputs": [
    {
     "data": {
      "text/plain": [
       "0.9886493847644267"
      ]
     },
     "execution_count": 11,
     "metadata": {},
     "output_type": "execute_result"
    }
   ],
   "source": [
    "computer_running_probability(computer_failure_intensity_hours, T)"
   ]
  },
  {
   "cell_type": "markdown",
   "id": "aeb6a1f4",
   "metadata": {},
   "source": [
    "Pravděpododobnost, že počítač zrealizuje službu trvající $ T = 10 $ hodin:\n",
    "$$ \\large  R(t = T = 10) = e^{-\\lambda_{s} \\cdot t} = e^{-0.00114155 \\cdot 10} = 0.988649 $$,\n",
    "tedy **98.8649 %**."
   ]
  }
 ],
 "metadata": {
  "kernelspec": {
   "display_name": "Python 3 (ipykernel)",
   "language": "python",
   "name": "python3"
  },
  "language_info": {
   "codemirror_mode": {
    "name": "ipython",
    "version": 3
   },
   "file_extension": ".py",
   "mimetype": "text/x-python",
   "name": "python",
   "nbconvert_exporter": "python",
   "pygments_lexer": "ipython3",
   "version": "3.8.10"
  }
 },
 "nbformat": 4,
 "nbformat_minor": 5
}
